{
 "cells": [
  {
   "cell_type": "markdown",
   "id": "7cc6c3d7",
   "metadata": {},
   "source": [
    "## Numpy array and basics\n",
    "learn about numpy with chai aur code"
   ]
  },
  {
   "cell_type": "code",
   "execution_count": 1,
   "id": "96e0121b",
   "metadata": {},
   "outputs": [],
   "source": [
    "import numpy as numpy"
   ]
  },
  {
   "cell_type": "markdown",
   "id": "ae0ef5a7",
   "metadata": {},
   "source": [
    "###  creating array from list"
   ]
  },
  {
   "cell_type": "code",
   "execution_count": 8,
   "id": "ca22079c",
   "metadata": {},
   "outputs": [
    {
     "name": "stdout",
     "output_type": "stream",
     "text": [
      "[1 2 3 4 5]\n",
      "[[1 2 3]\n",
      " [4 5 6]]\n"
     ]
    }
   ],
   "source": [
    "arr_1d = numpy.array([1, 2, 3, 4, 5])\n",
    "print(arr_1d)\n",
    "\n",
    "arr_2d = numpy.array([[1, 2, 3], [4, 5, 6]])\n",
    "print(arr_2d)"
   ]
  },
  {
   "cell_type": "markdown",
   "id": "d6428c3e",
   "metadata": {},
   "source": [
    "### List vs numpy array"
   ]
  },
  {
   "cell_type": "code",
   "execution_count": 10,
   "id": "c5e17270",
   "metadata": {},
   "outputs": [
    {
     "name": "stdout",
     "output_type": "stream",
     "text": [
      "python list multiply by 2:  [1, 3, 4, 5, 6, 1, 3, 4, 5, 6]\n",
      "numpy array multiply by 2:  [2 4 6]\n"
     ]
    }
   ],
   "source": [
    "py_list = [1,3,4,5,6]\n",
    "print(\"python list multiply by 2: \", py_list * 2)\n",
    "\n",
    "numpy_array = numpy.array([1,2,3])\n",
    "print(\"numpy array multiply by 2: \", numpy_array * 2)\n"
   ]
  },
  {
   "cell_type": "markdown",
   "id": "9657c4d3",
   "metadata": {},
   "source": [
    "## creating array from scratch"
   ]
  },
  {
   "cell_type": "code",
   "execution_count": 18,
   "id": "36873e1f",
   "metadata": {},
   "outputs": [
    {
     "name": "stdout",
     "output_type": "stream",
     "text": [
      "[[0. 0. 0. 0.]\n",
      " [0. 0. 0. 0.]\n",
      " [0. 0. 0. 0.]]\n",
      "[[1. 1. 1. 1.]\n",
      " [1. 1. 1. 1.]\n",
      " [1. 1. 1. 1.]]\n",
      "[[7 7]\n",
      " [7 7]]\n",
      "[[0.41313371 0.24439854 0.51217369]\n",
      " [0.71919705 0.8726075  0.54455567]]\n",
      "[ 0  5 10 15 20 25]\n"
     ]
    }
   ],
   "source": [
    "zeros = numpy.zeros((3, 4))\n",
    "print(zeros)\n",
    "\n",
    "ones = numpy.ones((3, 4))\n",
    "print(ones)\n",
    "\n",
    "full = numpy.full((2,2),7)\n",
    "print(full)\n",
    "\n",
    "random = numpy.random.random((2,3))\n",
    "print(random)\n",
    "\n",
    "sequence = numpy.arange(0, 30, 5)\n",
    "print(sequence)"
   ]
  },
  {
   "cell_type": "markdown",
   "id": "637202cb",
   "metadata": {},
   "source": [
    "## transpose the array"
   ]
  },
  {
   "cell_type": "code",
   "execution_count": 5,
   "id": "af3ed0ee",
   "metadata": {},
   "outputs": [
    {
     "name": "stdout",
     "output_type": "stream",
     "text": [
      "[[1 2 3]\n",
      " [4 5 6]]\n",
      "(2, 3)\n",
      "2\n",
      "6\n",
      "int64\n",
      "[[1 4]\n",
      " [2 5]\n",
      " [3 6]]\n"
     ]
    }
   ],
   "source": [
    "array_11  = numpy.array([[1,2,3],[4,5,6]])\n",
    "print(array_11)\n",
    "print(array_11.shape)\n",
    "print(array_11.ndim)\n",
    "print(array_11.size)\n",
    "print(array_11.dtype)\n",
    "array_11.transpose()\n",
    "print(array_11.transpose())\n"
   ]
  },
  {
   "cell_type": "markdown",
   "id": "554a0fce",
   "metadata": {},
   "source": [
    "## Numpy Array operations "
   ]
  },
  {
   "cell_type": "code",
   "execution_count": 5,
   "id": "f34cc0d9",
   "metadata": {},
   "outputs": [
    {
     "name": "stdout",
     "output_type": "stream",
     "text": [
      "Basic Slicing [3 4 5 6 7]\n",
      "With step [2 4 6]\n",
      "Negative indexing 8\n",
      "Negative indexing [ 8  9 10]\n",
      "Negative indexing [6 7 8 9]\n"
     ]
    }
   ],
   "source": [
    "indexArray = numpy.array([1,2,3,4,5,6,7,8,9,10])\n",
    "print(\"Basic Slicing\", indexArray[2:7])\n",
    "\n",
    "print(\"With step\", indexArray[1:7:2])\n",
    "print(\"Negative indexing\", indexArray[-3])\n",
    "print(\"Negative indexing\", indexArray[-3:])\n",
    "print(\"Negative indexing\", indexArray[-5:-1])\n"
   ]
  },
  {
   "cell_type": "code",
   "execution_count": 3,
   "id": "a137e175",
   "metadata": {},
   "outputs": [
    {
     "name": "stdout",
     "output_type": "stream",
     "text": [
      "Specific element 6\n",
      "Get full row [1 2 3]\n",
      "Get full column [2 5 8]\n"
     ]
    }
   ],
   "source": [
    "arr_2d = numpy.array([[1, 2, 3], \n",
    "                      [4, 5, 6],\n",
    "                        [7, 8, 9]])\n",
    "# index starts with 0 so output will be 2nd row and 3rd column\n",
    "print(\"Specific element\",arr_2d[1, 2])\n",
    "\n",
    "print(\"Get full row\", arr_2d[0, :])\n",
    "print(\"Get full column\", arr_2d[:, 1])                      "
   ]
  },
  {
   "cell_type": "markdown",
   "id": "3a135b2b",
   "metadata": {},
   "source": [
    "## Sorting "
   ]
  },
  {
   "cell_type": "code",
   "execution_count": 9,
   "id": "1948545d",
   "metadata": {},
   "outputs": [
    {
     "name": "stdout",
     "output_type": "stream",
     "text": [
      "Unsorted array [ 3 66 77  3  5 11  1  6  3]\n",
      "Sorted array [ 1  3  3  3  5  6 11 66 77]\n",
      "Unsorted array [[  3   7   2]\n",
      " [  6   4 121]\n",
      " [  9   1   5]]\n",
      "Sorted 2D array by column\n",
      " [[  3   1   2]\n",
      " [  6   4   5]\n",
      " [  9   7 121]]\n",
      "Sorted 2D array by row\n",
      " [[  2   3   7]\n",
      " [  4   6 121]\n",
      " [  1   5   9]]\n"
     ]
    }
   ],
   "source": [
    "unsorted_array = numpy.array([3,66,77,3,5,11,1,6,3])\n",
    "print(\"Unsorted array\", unsorted_array)\n",
    "sorted_array = numpy.sort(unsorted_array)\n",
    "print(\"Sorted array\", sorted_array)\n",
    "\n",
    "arr_2d_unsorted = numpy.array([[3, 7, 2],\n",
    "                             [6, 4, 121],\n",
    "                             [9, 1, 5]])\n",
    "print(\"Unsorted array\", arr_2d_unsorted)\n",
    "print(\"Sorted 2D array by column\\n\", numpy.sort(arr_2d_unsorted, axis=0))\n",
    "print(\"Sorted 2D array by row\\n\", numpy.sort(arr_2d_unsorted, axis=1))"
   ]
  },
  {
   "cell_type": "markdown",
   "id": "a5dded61",
   "metadata": {},
   "source": [
    "## Filter"
   ]
  },
  {
   "cell_type": "code",
   "execution_count": 13,
   "id": "28aeb0f9",
   "metadata": {},
   "outputs": [
    {
     "name": "stdout",
     "output_type": "stream",
     "text": [
      "Numbers:  [ 1  2  3  4  5  6  7  8  9 10]\n",
      "Even numbers:  [ 2  4  6  8 10]\n",
      "Odd numbers:  [1 3 5 7 9]\n"
     ]
    }
   ],
   "source": [
    "numbers = numpy.arange(1, 11)\n",
    "print(\"Numbers: \", numbers)\n",
    "\n",
    "even_numbers = numbers[numbers % 2 == 0] # you can provide expression in the brackets, which will be evaluated \n",
    "print(\"Even numbers: \", even_numbers)\n",
    "\n",
    "odd_numbers = numbers[numbers % 2 != 0]\n",
    "print(\"Odd numbers: \", odd_numbers)"
   ]
  },
  {
   "cell_type": "markdown",
   "id": "8dd853a7",
   "metadata": {},
   "source": [
    "## Filter with mask"
   ]
  },
  {
   "cell_type": "code",
   "execution_count": null,
   "id": "70910521",
   "metadata": {},
   "outputs": [
    {
     "name": "stdout",
     "output_type": "stream",
     "text": [
      "Numbers for mask:  [ 1  2  3  4  5  6  7  8  9 10]\n",
      "Mask:  [False False False False False  True  True  True  True  True]\n",
      "Numbers greater than 5:  [ 6  7  8  9 10]\n",
      "Numbers after assignment using mask:  [1 2 3 4 5 0 0 0 0 0]\n",
      "Numbers for indexing:  [11 12 13 14 15 16 17 18 19 20]\n"
     ]
    }
   ],
   "source": [
    "numbers_for_mask = numpy.arange(1, 11)\n",
    "mask =  numbers_for_mask > 5  # mask is expression which will be evaluated to True or False (kind of linq in C#)\n",
    "print(\"Numbers for mask: \", numbers_for_mask)\n",
    "print(\"Mask: \", mask)\n",
    "print(\"Numbers greater than 5: \", numbers_for_mask[mask]) # you can use mask to filter the array\n",
    "\n",
    "# assing values using boolean mask\n",
    "numbers_for_mask[numbers_for_mask > 5] = 0 # all numbers greater than 5 will be set to 0\n",
    "print(\"Numbers after assignment using mask: \", numbers_for_mask)\n"
   ]
  },
  {
   "cell_type": "code",
   "execution_count": 23,
   "id": "ba58963c",
   "metadata": {},
   "outputs": [
    {
     "name": "stdout",
     "output_type": "stream",
     "text": [
      "Numbers for indexing:  [11 12 13 14 15 16 17 18 19 20]\n",
      "Indices:  [0, 2, 4, 6]\n",
      "Numbers for indexing using indices:  [11 13 15 17]\n",
      "Where result:  (array([5, 6, 7, 8, 9]),)\n",
      "Numbers for indexing using where:  [16 17 18 19 20]\n"
     ]
    }
   ],
   "source": [
    "# indexing vs where()\n",
    "numbers_for_indexing = numpy.arange(11, 21)\n",
    "print(\"Numbers for indexing: \", numbers_for_indexing)\n",
    "\n",
    "indices = [0,2,4,6] # you can provide list of indices to get values from the array\n",
    "print(\"Indices: \", indices)\n",
    "print(\"Numbers for indexing using indices: \", numbers_for_indexing[indices]) # you can use list of indices to filter the array\n",
    "\n",
    "where_result = numpy.where(numbers_for_indexing > 15) # where() will return the indices of the elements that satisfy the condition\n",
    "print(\"Where result: \", where_result) # it will return tuple of arrays, one for each dimension of the array\n",
    "\n",
    "print(\"Numbers for indexing using where: \", numbers_for_indexing[where_result]) # you can use where() to filter the array\n"
   ]
  },
  {
   "cell_type": "code",
   "execution_count": null,
   "id": "040397b5",
   "metadata": {},
   "outputs": [
    {
     "name": "stdout",
     "output_type": "stream",
     "text": [
      "Condition array:  [11 12 13 14 15 32 34 36 38 40]\n"
     ]
    }
   ],
   "source": [
    "# you can use where() to assign values based on condition\n",
    "# in block (condition, x(if true), y(false)) if condition is True, x will be assigned, else y will be assigned, kind of c# ternary operator a > b ? a : b\n",
    "condition_array  = numpy.where(numbers_for_indexing > 15, numbers_for_indexing*2, numbers_for_indexing) \n",
    "print(\"Condition array: \", condition_array) # all numbers greater than 15 will be set to 0"
   ]
  },
  {
   "cell_type": "markdown",
   "id": "425c0682",
   "metadata": {},
   "source": [
    "## Adding and removing data\n"
   ]
  }
 ],
 "metadata": {
  "kernelspec": {
   "display_name": "Python 3",
   "language": "python",
   "name": "python3"
  },
  "language_info": {
   "codemirror_mode": {
    "name": "ipython",
    "version": 3
   },
   "file_extension": ".py",
   "mimetype": "text/x-python",
   "name": "python",
   "nbconvert_exporter": "python",
   "pygments_lexer": "ipython3",
   "version": "3.12.9"
  }
 },
 "nbformat": 4,
 "nbformat_minor": 5
}
