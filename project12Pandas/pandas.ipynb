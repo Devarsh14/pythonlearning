{
 "cells": [
  {
   "cell_type": "code",
   "execution_count": 1,
   "id": "initial_id",
   "metadata": {
    "ExecuteTime": {
     "end_time": "2025-04-09T10:05:44.143374Z",
     "start_time": "2025-04-09T10:05:44.139376Z"
    },
    "collapsed": true
   },
   "outputs": [
    {
     "name": "stdout",
     "output_type": "stream",
     "text": [
      "hello\n"
     ]
    }
   ],
   "source": [
    "print(\"hello\")"
   ]
  },
  {
   "cell_type": "code",
   "execution_count": 3,
   "id": "d22eb62d404bf4e7",
   "metadata": {
    "ExecuteTime": {
     "end_time": "2025-04-09T10:07:54.955035Z",
     "start_time": "2025-04-09T10:07:54.950641Z"
    }
   },
   "outputs": [
    {
     "name": "stdout",
     "output_type": "stream",
     "text": [
      "Python executable: c:\\Users\\DevarshShukla\\source\\repos\\Devarsh\\python\\pythonlearning\\myenv\\python.exe\n",
      "Python version: 3.12.9 | packaged by conda-forge | (main, Mar  4 2025, 22:37:18) [MSC v.1943 64 bit (AMD64)]\n",
      "Is Conda environment: True\n",
      "Conda environment: C:\\Users\\DevarshShukla\\source\\repos\\Devarsh\\python\\pythonlearning\\myenv\n"
     ]
    }
   ],
   "source": [
    "# Identify the Python interpreter being used or environment\n",
    "import sys\n",
    "import os\n",
    "\n",
    "# Print Python executable path and version\n",
    "print(f\"Python executable: {sys.executable}\")\n",
    "print(f\"Python version: {sys.version}\")\n",
    "\n",
    "# Check if running in a Conda environment\n",
    "is_conda = os.path.exists(os.path.join(os.path.dirname(sys.executable), 'conda-meta'))\n",
    "print(f\"Is Conda environment: {is_conda}\")\n",
    "\n",
    "# Get environment name if it's Conda\n",
    "if is_conda:\n",
    "    # Get the environment name from path or env vars\n",
    "    if 'CONDA_DEFAULT_ENV' in os.environ:\n",
    "        print(f\"Conda environment: {os.environ['CONDA_DEFAULT_ENV']}\")\n",
    "    else:\n",
    "        # Try to extract from path\n",
    "        env_path = os.path.dirname(os.path.dirname(sys.executable))\n",
    "        env_name = os.path.basename(env_path)\n",
    "        print(f\"Conda environment path: {env_path}\")\n",
    "        print(f\"Conda environment name: {env_name}\")"
   ]
  },
  {
   "cell_type": "markdown",
   "id": "b65bcec198a90eee",
   "metadata": {},
   "source": [
    "Install pandas using conda from this notebook\n",
    "!conda install pandas"
   ]
  },
  {
   "cell_type": "markdown",
   "id": "79b414d2797d5ad7",
   "metadata": {},
   "source": [
    "# key data structures in pandas\n",
    "* series\n",
    "* dataframe"
   ]
  },
  {
   "cell_type": "code",
   "execution_count": 4,
   "id": "6df9222fcb48d214",
   "metadata": {
    "ExecuteTime": {
     "end_time": "2025-04-09T10:17:20.667565Z",
     "start_time": "2025-04-09T10:17:20.148891Z"
    }
   },
   "outputs": [],
   "source": [
    "import  pandas as pd"
   ]
  },
  {
   "cell_type": "code",
   "execution_count": 7,
   "id": "7ac9bf3ca5f84dea",
   "metadata": {
    "ExecuteTime": {
     "end_time": "2025-04-09T10:18:29.071699Z",
     "start_time": "2025-04-09T10:18:29.068320Z"
    }
   },
   "outputs": [
    {
     "name": "stdout",
     "output_type": "stream",
     "text": [
      "0    1\n",
      "1    2\n",
      "2    3\n",
      "3    4\n",
      "4    5\n",
      "dtype: int64\n"
     ]
    }
   ],
   "source": [
    "series = pd.Series([1,2,3,4,5])\n",
    "print(series)"
   ]
  },
  {
   "cell_type": "code",
   "execution_count": 8,
   "id": "4ba06fd7ce80eb74",
   "metadata": {
    "ExecuteTime": {
     "end_time": "2025-04-09T10:18:57.191382Z",
     "start_time": "2025-04-09T10:18:57.184080Z"
    }
   },
   "outputs": [
    {
     "data": {
      "text/plain": [
       "0    1\n",
       "1    2\n",
       "2    3\n",
       "3    4\n",
       "4    5\n",
       "dtype: int64"
      ]
     },
     "execution_count": 8,
     "metadata": {},
     "output_type": "execute_result"
    }
   ],
   "source": [
    "series"
   ]
  },
  {
   "cell_type": "code",
   "execution_count": 9,
   "id": "db31bafc9f9a3a1c",
   "metadata": {
    "ExecuteTime": {
     "end_time": "2025-04-09T10:20:31.073024Z",
     "start_time": "2025-04-09T10:20:31.069252Z"
    }
   },
   "outputs": [
    {
     "name": "stdout",
     "output_type": "stream",
     "text": [
      "a    1\n",
      "b    2\n",
      "c    3\n",
      "d    4\n",
      "e    5\n",
      "dtype: int64\n"
     ]
    }
   ],
   "source": [
    "series_with_index = pd.Series([1,2,3,4,5], index=['a','b','c','d','e'])\n",
    "print(series_with_index)"
   ]
  },
  {
   "cell_type": "code",
   "execution_count": 10,
   "id": "ab284280ca9a084b",
   "metadata": {
    "ExecuteTime": {
     "end_time": "2025-04-09T10:20:37.639688Z",
     "start_time": "2025-04-09T10:20:37.633669Z"
    }
   },
   "outputs": [
    {
     "data": {
      "text/plain": [
       "a    1\n",
       "b    2\n",
       "c    3\n",
       "d    4\n",
       "e    5\n",
       "dtype: int64"
      ]
     },
     "execution_count": 10,
     "metadata": {},
     "output_type": "execute_result"
    }
   ],
   "source": [
    "series_with_index"
   ]
  },
  {
   "cell_type": "code",
   "execution_count": 12,
   "id": "6c1bd883eaec7390",
   "metadata": {
    "ExecuteTime": {
     "end_time": "2025-04-09T10:22:34.907895Z",
     "start_time": "2025-04-09T10:22:34.904960Z"
    }
   },
   "outputs": [],
   "source": [
    "# Create DataFrame with sample data\n",
    "dataframe = pd.DataFrame({\n",
    "    \"names\": [\"Alice\", \"Bob\", \"Charlie\"],\n",
    "    \"marks\": [85, 90, 75]\n",
    "})"
   ]
  },
  {
   "cell_type": "code",
   "execution_count": 13,
   "id": "fbc35197896acd42",
   "metadata": {
    "ExecuteTime": {
     "end_time": "2025-04-09T10:22:42.415919Z",
     "start_time": "2025-04-09T10:22:42.410881Z"
    }
   },
   "outputs": [
    {
     "data": {
      "text/html": [
       "<div>\n",
       "<style scoped>\n",
       "    .dataframe tbody tr th:only-of-type {\n",
       "        vertical-align: middle;\n",
       "    }\n",
       "\n",
       "    .dataframe tbody tr th {\n",
       "        vertical-align: top;\n",
       "    }\n",
       "\n",
       "    .dataframe thead th {\n",
       "        text-align: right;\n",
       "    }\n",
       "</style>\n",
       "<table border=\"1\" class=\"dataframe\">\n",
       "  <thead>\n",
       "    <tr style=\"text-align: right;\">\n",
       "      <th></th>\n",
       "      <th>names</th>\n",
       "      <th>marks</th>\n",
       "    </tr>\n",
       "  </thead>\n",
       "  <tbody>\n",
       "    <tr>\n",
       "      <th>0</th>\n",
       "      <td>Alice</td>\n",
       "      <td>85</td>\n",
       "    </tr>\n",
       "    <tr>\n",
       "      <th>1</th>\n",
       "      <td>Bob</td>\n",
       "      <td>90</td>\n",
       "    </tr>\n",
       "    <tr>\n",
       "      <th>2</th>\n",
       "      <td>Charlie</td>\n",
       "      <td>75</td>\n",
       "    </tr>\n",
       "  </tbody>\n",
       "</table>\n",
       "</div>"
      ],
      "text/plain": [
       "     names  marks\n",
       "0    Alice     85\n",
       "1      Bob     90\n",
       "2  Charlie     75"
      ]
     },
     "execution_count": 13,
     "metadata": {},
     "output_type": "execute_result"
    }
   ],
   "source": [
    "dataframe"
   ]
  },
  {
   "cell_type": "code",
   "execution_count": 16,
   "id": "643d4063c2efe9c6",
   "metadata": {
    "ExecuteTime": {
     "end_time": "2025-04-09T10:27:22.130430Z",
     "start_time": "2025-04-09T10:27:22.125180Z"
    }
   },
   "outputs": [],
   "source": [
    "df_sp500 = pd.read_csv(\"data/SP500.csv\")"
   ]
  },
  {
   "cell_type": "code",
   "execution_count": 17,
   "id": "6e447cb005b5f88b",
   "metadata": {
    "ExecuteTime": {
     "end_time": "2025-04-09T10:27:23.799579Z",
     "start_time": "2025-04-09T10:27:23.791183Z"
    }
   },
   "outputs": [
    {
     "data": {
      "text/html": [
       "<div>\n",
       "<style scoped>\n",
       "    .dataframe tbody tr th:only-of-type {\n",
       "        vertical-align: middle;\n",
       "    }\n",
       "\n",
       "    .dataframe tbody tr th {\n",
       "        vertical-align: top;\n",
       "    }\n",
       "\n",
       "    .dataframe thead th {\n",
       "        text-align: right;\n",
       "    }\n",
       "</style>\n",
       "<table border=\"1\" class=\"dataframe\">\n",
       "  <thead>\n",
       "    <tr style=\"text-align: right;\">\n",
       "      <th></th>\n",
       "      <th>observation_date</th>\n",
       "      <th>SP500</th>\n",
       "    </tr>\n",
       "  </thead>\n",
       "  <tbody>\n",
       "    <tr>\n",
       "      <th>0</th>\n",
       "      <td>2015-01-30</td>\n",
       "      <td>1994.99</td>\n",
       "    </tr>\n",
       "    <tr>\n",
       "      <th>1</th>\n",
       "      <td>2015-02-02</td>\n",
       "      <td>2020.85</td>\n",
       "    </tr>\n",
       "    <tr>\n",
       "      <th>2</th>\n",
       "      <td>2015-02-03</td>\n",
       "      <td>2050.03</td>\n",
       "    </tr>\n",
       "    <tr>\n",
       "      <th>3</th>\n",
       "      <td>2015-02-04</td>\n",
       "      <td>2041.51</td>\n",
       "    </tr>\n",
       "    <tr>\n",
       "      <th>4</th>\n",
       "      <td>2015-02-05</td>\n",
       "      <td>2062.52</td>\n",
       "    </tr>\n",
       "    <tr>\n",
       "      <th>...</th>\n",
       "      <td>...</td>\n",
       "      <td>...</td>\n",
       "    </tr>\n",
       "    <tr>\n",
       "      <th>2615</th>\n",
       "      <td>2025-02-07</td>\n",
       "      <td>6025.99</td>\n",
       "    </tr>\n",
       "    <tr>\n",
       "      <th>2616</th>\n",
       "      <td>2025-02-10</td>\n",
       "      <td>6066.44</td>\n",
       "    </tr>\n",
       "    <tr>\n",
       "      <th>2617</th>\n",
       "      <td>2025-02-11</td>\n",
       "      <td>6068.50</td>\n",
       "    </tr>\n",
       "    <tr>\n",
       "      <th>2618</th>\n",
       "      <td>2025-02-12</td>\n",
       "      <td>6051.97</td>\n",
       "    </tr>\n",
       "    <tr>\n",
       "      <th>2619</th>\n",
       "      <td>2025-02-13</td>\n",
       "      <td>6115.07</td>\n",
       "    </tr>\n",
       "  </tbody>\n",
       "</table>\n",
       "<p>2620 rows × 2 columns</p>\n",
       "</div>"
      ],
      "text/plain": [
       "     observation_date    SP500\n",
       "0          2015-01-30  1994.99\n",
       "1          2015-02-02  2020.85\n",
       "2          2015-02-03  2050.03\n",
       "3          2015-02-04  2041.51\n",
       "4          2015-02-05  2062.52\n",
       "...               ...      ...\n",
       "2615       2025-02-07  6025.99\n",
       "2616       2025-02-10  6066.44\n",
       "2617       2025-02-11  6068.50\n",
       "2618       2025-02-12  6051.97\n",
       "2619       2025-02-13  6115.07\n",
       "\n",
       "[2620 rows x 2 columns]"
      ]
     },
     "execution_count": 17,
     "metadata": {},
     "output_type": "execute_result"
    }
   ],
   "source": [
    "df_sp500"
   ]
  },
  {
   "cell_type": "code",
   "execution_count": 18,
   "id": "5e4c0e3b97dabec",
   "metadata": {
    "ExecuteTime": {
     "end_time": "2025-04-09T10:32:50.593557Z",
     "start_time": "2025-04-09T10:32:50.588092Z"
    }
   },
   "outputs": [
    {
     "data": {
      "text/html": [
       "<div>\n",
       "<style scoped>\n",
       "    .dataframe tbody tr th:only-of-type {\n",
       "        vertical-align: middle;\n",
       "    }\n",
       "\n",
       "    .dataframe tbody tr th {\n",
       "        vertical-align: top;\n",
       "    }\n",
       "\n",
       "    .dataframe thead th {\n",
       "        text-align: right;\n",
       "    }\n",
       "</style>\n",
       "<table border=\"1\" class=\"dataframe\">\n",
       "  <thead>\n",
       "    <tr style=\"text-align: right;\">\n",
       "      <th></th>\n",
       "      <th>observation_date</th>\n",
       "      <th>SP500</th>\n",
       "    </tr>\n",
       "  </thead>\n",
       "  <tbody>\n",
       "    <tr>\n",
       "      <th>0</th>\n",
       "      <td>2015-01-30</td>\n",
       "      <td>1994.99</td>\n",
       "    </tr>\n",
       "    <tr>\n",
       "      <th>1</th>\n",
       "      <td>2015-02-02</td>\n",
       "      <td>2020.85</td>\n",
       "    </tr>\n",
       "    <tr>\n",
       "      <th>2</th>\n",
       "      <td>2015-02-03</td>\n",
       "      <td>2050.03</td>\n",
       "    </tr>\n",
       "    <tr>\n",
       "      <th>3</th>\n",
       "      <td>2015-02-04</td>\n",
       "      <td>2041.51</td>\n",
       "    </tr>\n",
       "    <tr>\n",
       "      <th>4</th>\n",
       "      <td>2015-02-05</td>\n",
       "      <td>2062.52</td>\n",
       "    </tr>\n",
       "  </tbody>\n",
       "</table>\n",
       "</div>"
      ],
      "text/plain": [
       "  observation_date    SP500\n",
       "0       2015-01-30  1994.99\n",
       "1       2015-02-02  2020.85\n",
       "2       2015-02-03  2050.03\n",
       "3       2015-02-04  2041.51\n",
       "4       2015-02-05  2062.52"
      ]
     },
     "execution_count": 18,
     "metadata": {},
     "output_type": "execute_result"
    }
   ],
   "source": [
    "# Display the first few rows of the DataFrame\n",
    "df_sp500.head()"
   ]
  },
  {
   "cell_type": "code",
   "execution_count": 19,
   "id": "77e60f756366e041",
   "metadata": {
    "ExecuteTime": {
     "end_time": "2025-04-09T10:34:24.052117Z",
     "start_time": "2025-04-09T10:34:24.043611Z"
    }
   },
   "outputs": [
    {
     "data": {
      "text/html": [
       "<div>\n",
       "<style scoped>\n",
       "    .dataframe tbody tr th:only-of-type {\n",
       "        vertical-align: middle;\n",
       "    }\n",
       "\n",
       "    .dataframe tbody tr th {\n",
       "        vertical-align: top;\n",
       "    }\n",
       "\n",
       "    .dataframe thead th {\n",
       "        text-align: right;\n",
       "    }\n",
       "</style>\n",
       "<table border=\"1\" class=\"dataframe\">\n",
       "  <thead>\n",
       "    <tr style=\"text-align: right;\">\n",
       "      <th></th>\n",
       "      <th>observation_date</th>\n",
       "      <th>SP500</th>\n",
       "    </tr>\n",
       "  </thead>\n",
       "  <tbody>\n",
       "    <tr>\n",
       "      <th>2615</th>\n",
       "      <td>2025-02-07</td>\n",
       "      <td>6025.99</td>\n",
       "    </tr>\n",
       "    <tr>\n",
       "      <th>2616</th>\n",
       "      <td>2025-02-10</td>\n",
       "      <td>6066.44</td>\n",
       "    </tr>\n",
       "    <tr>\n",
       "      <th>2617</th>\n",
       "      <td>2025-02-11</td>\n",
       "      <td>6068.50</td>\n",
       "    </tr>\n",
       "    <tr>\n",
       "      <th>2618</th>\n",
       "      <td>2025-02-12</td>\n",
       "      <td>6051.97</td>\n",
       "    </tr>\n",
       "    <tr>\n",
       "      <th>2619</th>\n",
       "      <td>2025-02-13</td>\n",
       "      <td>6115.07</td>\n",
       "    </tr>\n",
       "  </tbody>\n",
       "</table>\n",
       "</div>"
      ],
      "text/plain": [
       "     observation_date    SP500\n",
       "2615       2025-02-07  6025.99\n",
       "2616       2025-02-10  6066.44\n",
       "2617       2025-02-11  6068.50\n",
       "2618       2025-02-12  6051.97\n",
       "2619       2025-02-13  6115.07"
      ]
     },
     "execution_count": 19,
     "metadata": {},
     "output_type": "execute_result"
    }
   ],
   "source": [
    "# Display the last few rows of the DataFrame\n",
    "df_sp500.tail()"
   ]
  },
  {
   "cell_type": "code",
   "execution_count": 20,
   "id": "e690a4552b48d558",
   "metadata": {
    "ExecuteTime": {
     "end_time": "2025-04-09T10:34:34.413109Z",
     "start_time": "2025-04-09T10:34:34.406875Z"
    }
   },
   "outputs": [
    {
     "data": {
      "text/html": [
       "<div>\n",
       "<style scoped>\n",
       "    .dataframe tbody tr th:only-of-type {\n",
       "        vertical-align: middle;\n",
       "    }\n",
       "\n",
       "    .dataframe tbody tr th {\n",
       "        vertical-align: top;\n",
       "    }\n",
       "\n",
       "    .dataframe thead th {\n",
       "        text-align: right;\n",
       "    }\n",
       "</style>\n",
       "<table border=\"1\" class=\"dataframe\">\n",
       "  <thead>\n",
       "    <tr style=\"text-align: right;\">\n",
       "      <th></th>\n",
       "      <th>SP500</th>\n",
       "    </tr>\n",
       "  </thead>\n",
       "  <tbody>\n",
       "    <tr>\n",
       "      <th>count</th>\n",
       "      <td>2526.000000</td>\n",
       "    </tr>\n",
       "    <tr>\n",
       "      <th>mean</th>\n",
       "      <td>3396.494109</td>\n",
       "    </tr>\n",
       "    <tr>\n",
       "      <th>std</th>\n",
       "      <td>1111.703653</td>\n",
       "    </tr>\n",
       "    <tr>\n",
       "      <th>min</th>\n",
       "      <td>1829.080000</td>\n",
       "    </tr>\n",
       "    <tr>\n",
       "      <th>25%</th>\n",
       "      <td>2444.755000</td>\n",
       "    </tr>\n",
       "    <tr>\n",
       "      <th>50%</th>\n",
       "      <td>3045.540000</td>\n",
       "    </tr>\n",
       "    <tr>\n",
       "      <th>75%</th>\n",
       "      <td>4247.620000</td>\n",
       "    </tr>\n",
       "    <tr>\n",
       "      <th>max</th>\n",
       "      <td>6118.710000</td>\n",
       "    </tr>\n",
       "  </tbody>\n",
       "</table>\n",
       "</div>"
      ],
      "text/plain": [
       "             SP500\n",
       "count  2526.000000\n",
       "mean   3396.494109\n",
       "std    1111.703653\n",
       "min    1829.080000\n",
       "25%    2444.755000\n",
       "50%    3045.540000\n",
       "75%    4247.620000\n",
       "max    6118.710000"
      ]
     },
     "execution_count": 20,
     "metadata": {},
     "output_type": "execute_result"
    }
   ],
   "source": [
    "# Display the shape of the DataFrame or provides information of full dataset\n",
    "df_sp500.describe()"
   ]
  },
  {
   "cell_type": "code",
   "execution_count": 21,
   "id": "fb95b5aac5776464",
   "metadata": {
    "ExecuteTime": {
     "end_time": "2025-04-09T10:36:26.542373Z",
     "start_time": "2025-04-09T10:36:26.534362Z"
    }
   },
   "outputs": [
    {
     "name": "stdout",
     "output_type": "stream",
     "text": [
      "<class 'pandas.core.frame.DataFrame'>\n",
      "RangeIndex: 2620 entries, 0 to 2619\n",
      "Data columns (total 2 columns):\n",
      " #   Column            Non-Null Count  Dtype  \n",
      "---  ------            --------------  -----  \n",
      " 0   observation_date  2620 non-null   object \n",
      " 1   SP500             2526 non-null   float64\n",
      "dtypes: float64(1), object(1)\n",
      "memory usage: 41.1+ KB\n"
     ]
    }
   ],
   "source": [
    "df_sp500.info()"
   ]
  },
  {
   "cell_type": "markdown",
   "id": "966ca91da7e06ebe",
   "metadata": {},
   "source": [
    "# Data selection"
   ]
  },
  {
   "cell_type": "code",
   "execution_count": 24,
   "id": "a4257b0629039f2b",
   "metadata": {
    "ExecuteTime": {
     "end_time": "2025-04-09T10:39:48.145627Z",
     "start_time": "2025-04-09T10:39:48.141703Z"
    }
   },
   "outputs": [
    {
     "data": {
      "text/plain": [
       "0       2015-01-30\n",
       "1       2015-02-02\n",
       "2       2015-02-03\n",
       "3       2015-02-04\n",
       "4       2015-02-05\n",
       "           ...    \n",
       "2615    2025-02-07\n",
       "2616    2025-02-10\n",
       "2617    2025-02-11\n",
       "2618    2025-02-12\n",
       "2619    2025-02-13\n",
       "Name: observation_date, Length: 2620, dtype: object"
      ]
     },
     "execution_count": 24,
     "metadata": {},
     "output_type": "execute_result"
    }
   ],
   "source": [
    "df_sp500[\"observation_date\"]"
   ]
  },
  {
   "cell_type": "code",
   "execution_count": 28,
   "id": "878416e7874d142c",
   "metadata": {
    "ExecuteTime": {
     "end_time": "2025-04-09T10:40:49.100803Z",
     "start_time": "2025-04-09T10:40:49.097585Z"
    }
   },
   "outputs": [
    {
     "data": {
      "text/plain": [
       "pandas.core.frame.DataFrame"
      ]
     },
     "execution_count": 28,
     "metadata": {},
     "output_type": "execute_result"
    }
   ],
   "source": [
    "type(df_sp500)\n"
   ]
  },
  {
   "cell_type": "code",
   "execution_count": 29,
   "id": "9f8c7c6a144dfb53",
   "metadata": {
    "ExecuteTime": {
     "end_time": "2025-04-09T10:40:50.477683Z",
     "start_time": "2025-04-09T10:40:50.474282Z"
    }
   },
   "outputs": [
    {
     "data": {
      "text/plain": [
       "pandas.core.series.Series"
      ]
     },
     "execution_count": 29,
     "metadata": {},
     "output_type": "execute_result"
    }
   ],
   "source": [
    "type(df_sp500[\"observation_date\"])"
   ]
  },
  {
   "cell_type": "code",
   "execution_count": 30,
   "id": "fd1aa8ce01067c82",
   "metadata": {
    "ExecuteTime": {
     "end_time": "2025-04-09T10:41:52.963218Z",
     "start_time": "2025-04-09T10:41:52.958197Z"
    }
   },
   "outputs": [
    {
     "data": {
      "text/plain": [
       "observation_date    2015-01-30\n",
       "SP500                  1994.99\n",
       "Name: 0, dtype: object"
      ]
     },
     "execution_count": 30,
     "metadata": {},
     "output_type": "execute_result"
    }
   ],
   "source": [
    "df_sp500.iloc[0]"
   ]
  },
  {
   "cell_type": "code",
   "execution_count": 31,
   "id": "ebc402703989286b",
   "metadata": {
    "ExecuteTime": {
     "end_time": "2025-04-09T10:42:08.976954Z",
     "start_time": "2025-04-09T10:42:08.973494Z"
    }
   },
   "outputs": [
    {
     "data": {
      "text/plain": [
       "observation_date    2025-02-13\n",
       "SP500                  6115.07\n",
       "Name: 2619, dtype: object"
      ]
     },
     "execution_count": 31,
     "metadata": {},
     "output_type": "execute_result"
    }
   ],
   "source": [
    "df_sp500.iloc[-1]"
   ]
  },
  {
   "cell_type": "code",
   "execution_count": 32,
   "id": "63d4a0a3d50202d1",
   "metadata": {
    "ExecuteTime": {
     "end_time": "2025-04-09T10:44:47.582518Z",
     "start_time": "2025-04-09T10:44:47.576519Z"
    }
   },
   "outputs": [
    {
     "name": "stdout",
     "output_type": "stream",
     "text": [
      "Number of rows with missing SP500 values: 94\n"
     ]
    },
    {
     "data": {
      "text/html": [
       "<div>\n",
       "<style scoped>\n",
       "    .dataframe tbody tr th:only-of-type {\n",
       "        vertical-align: middle;\n",
       "    }\n",
       "\n",
       "    .dataframe tbody tr th {\n",
       "        vertical-align: top;\n",
       "    }\n",
       "\n",
       "    .dataframe thead th {\n",
       "        text-align: right;\n",
       "    }\n",
       "</style>\n",
       "<table border=\"1\" class=\"dataframe\">\n",
       "  <thead>\n",
       "    <tr style=\"text-align: right;\">\n",
       "      <th></th>\n",
       "      <th>observation_date</th>\n",
       "      <th>SP500</th>\n",
       "    </tr>\n",
       "  </thead>\n",
       "  <tbody>\n",
       "    <tr>\n",
       "      <th>11</th>\n",
       "      <td>2015-02-16</td>\n",
       "      <td>NaN</td>\n",
       "    </tr>\n",
       "    <tr>\n",
       "      <th>45</th>\n",
       "      <td>2015-04-03</td>\n",
       "      <td>NaN</td>\n",
       "    </tr>\n",
       "    <tr>\n",
       "      <th>81</th>\n",
       "      <td>2015-05-25</td>\n",
       "      <td>NaN</td>\n",
       "    </tr>\n",
       "    <tr>\n",
       "      <th>110</th>\n",
       "      <td>2015-07-03</td>\n",
       "      <td>NaN</td>\n",
       "    </tr>\n",
       "    <tr>\n",
       "      <th>156</th>\n",
       "      <td>2015-09-07</td>\n",
       "      <td>NaN</td>\n",
       "    </tr>\n",
       "  </tbody>\n",
       "</table>\n",
       "</div>"
      ],
      "text/plain": [
       "    observation_date  SP500\n",
       "11        2015-02-16    NaN\n",
       "45        2015-04-03    NaN\n",
       "81        2015-05-25    NaN\n",
       "110       2015-07-03    NaN\n",
       "156       2015-09-07    NaN"
      ]
     },
     "execution_count": 32,
     "metadata": {},
     "output_type": "execute_result"
    }
   ],
   "source": [
    "# Get all rows where SP500 is NaN\n",
    "nan_rows = df_sp500[df_sp500['SP500'].isnull()]\n",
    "\n",
    "# Display the result\n",
    "print(f\"Number of rows with missing SP500 values: {len(nan_rows)}\")\n",
    "nan_rows.head()  # Show first 5 rows with NaN values"
   ]
  }
 ],
 "metadata": {
  "kernelspec": {
   "display_name": "Python 3",
   "language": "python",
   "name": "python3"
  },
  "language_info": {
   "codemirror_mode": {
    "name": "ipython",
    "version": 2
   },
   "file_extension": ".py",
   "mimetype": "text/x-python",
   "name": "python",
   "nbconvert_exporter": "python",
   "pygments_lexer": "ipython2",
   "version": "3.12.9"
  }
 },
 "nbformat": 4,
 "nbformat_minor": 5
}
